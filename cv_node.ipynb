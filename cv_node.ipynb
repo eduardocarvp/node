{
 "cells": [
  {
   "cell_type": "code",
   "execution_count": null,
   "metadata": {},
   "outputs": [],
   "source": [
    "import torch\n",
    "from sklearn.preprocessing import LabelEncoder\n",
    "from sklearn.metrics import roc_auc_score\n",
    "from copy import deepcopy\n",
    "from sklearn.model_selection import StratifiedKFold, KFold, train_test_split\n",
    "from sklearn.preprocessing import QuantileTransformer\n",
    "from copy import deepcopy\n",
    "from lib.data import preprocess\n",
    "from lib.model import Model\n",
    "\n",
    "import pandas as pd\n",
    "import numpy as np\n",
    "np.random.seed(0)\n",
    "\n",
    "\n",
    "import os\n",
    "import wget\n",
    "from pathlib import Path\n",
    "\n",
    "from matplotlib import pyplot as plt\n",
    "%matplotlib inline"
   ]
  },
  {
   "cell_type": "markdown",
   "metadata": {},
   "source": [
    "# Download census-income dataset"
   ]
  },
  {
   "cell_type": "code",
   "execution_count": null,
   "metadata": {},
   "outputs": [],
   "source": [
    "url = \"https://archive.ics.uci.edu/ml/machine-learning-databases/adult/adult.data\"\n",
    "dataset_name = 'census-income'\n",
    "out = Path(os.getcwd()+'/data/'+dataset_name+'.csv')"
   ]
  },
  {
   "cell_type": "code",
   "execution_count": null,
   "metadata": {},
   "outputs": [],
   "source": [
    "out.parent.mkdir(parents=True, exist_ok=True)\n",
    "if out.exists():\n",
    "    print(\"File already exists.\")\n",
    "else:\n",
    "    print(\"Downloading file...\")\n",
    "    wget.download(url, out.as_posix())"
   ]
  },
  {
   "cell_type": "markdown",
   "metadata": {},
   "source": [
    "# Load data and split"
   ]
  },
  {
   "cell_type": "code",
   "execution_count": null,
   "metadata": {},
   "outputs": [],
   "source": [
    "out = 'train_bench_bm.csv'"
   ]
  },
  {
   "cell_type": "code",
   "execution_count": null,
   "metadata": {},
   "outputs": [],
   "source": [
    "df = pd.read_csv(out)\n",
    "target = 'y'  # ' <=50K'\n",
    "if \"Set\" not in df.columns:\n",
    "    df[\"Set\"] = np.random.choice([\"train\", \"test\"], p =[.8, .2], size=(df.shape[0],))\n",
    "\n",
    "train_indices = df[df.Set==\"train\"].index\n",
    "valid_indices = df[df.Set==\"valid\"].index\n",
    "test_indices = df[df.Set==\"test\"].index"
   ]
  },
  {
   "cell_type": "code",
   "execution_count": null,
   "metadata": {},
   "outputs": [],
   "source": [
    "df.drop(['Set'], axis=1, inplace=True)\n",
    "df.fillna(-1, inplace=True)"
   ]
  },
  {
   "cell_type": "code",
   "execution_count": null,
   "metadata": {},
   "outputs": [],
   "source": [
    "# train = df.loc[df.Set==\"train\"].reset_index(drop=True)\n",
    "# test = df.loc[df.Set==\"test\"].reset_index(drop=True)"
   ]
  },
  {
   "cell_type": "code",
   "execution_count": null,
   "metadata": {},
   "outputs": [],
   "source": [
    "df.head()"
   ]
  },
  {
   "cell_type": "code",
   "execution_count": null,
   "metadata": {},
   "outputs": [],
   "source": [
    "split_indices = dict(\n",
    "    train=train_indices,\n",
    "    valid=valid_indices,\n",
    "    test=test_indices\n",
    ")"
   ]
  },
  {
   "cell_type": "code",
   "execution_count": null,
   "metadata": {},
   "outputs": [],
   "source": [
    "data = preprocess(df, target=target, split_indices=split_indices, quantile_transform=True)"
   ]
  },
  {
   "cell_type": "markdown",
   "metadata": {},
   "source": [
    "# Define categorical features for categorical embeddings"
   ]
  },
  {
   "cell_type": "markdown",
   "metadata": {},
   "source": [
    "# Training"
   ]
  },
  {
   "cell_type": "code",
   "execution_count": null,
   "metadata": {},
   "outputs": [],
   "source": [
    "def split_and_preprocess(X_train, y_train, n_splits=10, random_state=0):\n",
    "\n",
    "    # CVSplit = KFold if self.learning_task == 'regression' else StratifiedKFold\n",
    "    cv = StratifiedKFold(n_splits=n_splits, shuffle=True, random_state=random_state)\n",
    "\n",
    "    for train_index, test_index in cv.split(X_train, y_train):\n",
    "        train, test = X_train[train_index], X_train[test_index]\n",
    "        train, ytr = train, y_train[train_index]\n",
    "        test, yte = test, y_train[test_index]\n",
    "        yield train, ytr, test, yte"
   ]
  },
  {
   "cell_type": "code",
   "execution_count": null,
   "metadata": {
    "scrolled": false
   },
   "outputs": [],
   "source": [
    "evals_results = []\n",
    "clfs = []\n",
    "for fold, (_train, _ytr, _test, _yte) in enumerate(split_and_preprocess(data['X_train'], data['y_train'])):\n",
    "    clf = Model(input_dim=data['X_train'].shape[1], output_dim=2,\n",
    "                experiment_name=f'fold_{fold}')\n",
    "    evals_result = clf.fit(\n",
    "        X_train=_train, y_train=_ytr,\n",
    "        X_valid=_test, y_valid=_yte,\n",
    "        early_stopping_rounds=10000,\n",
    "        report_frequency=100,\n",
    "        plot=True\n",
    "    )\n",
    "    print(evals_result)\n",
    "    evals_results.append(evals_result)\n",
    "    clfs.append(deepcopy(clf))\n",
    "    torch.cuda.empty_cache()"
   ]
  },
  {
   "cell_type": "markdown",
   "metadata": {},
   "source": [
    "### Predictions"
   ]
  },
  {
   "cell_type": "code",
   "execution_count": null,
   "metadata": {},
   "outputs": [],
   "source": [
    "for c in clfs:\n",
    "    preds = c.predict(data['X_test'])\n",
    "    print(roc_auc_score(y_score=preds[:,1], y_true=data['y_test']))"
   ]
  },
  {
   "cell_type": "code",
   "execution_count": null,
   "metadata": {},
   "outputs": [],
   "source": [
    "preds = 0\n",
    "for c in clfs:\n",
    "    preds += c.predict(data['X_test']) / len(clfs)\n",
    "    \n",
    "test_auc = roc_auc_score(y_score=preds[:,1], y_true=data['y_test'])\n",
    "\n",
    "print(f\"FINAL TEST SCORE FOR {dataset_name} : {test_auc}\")"
   ]
  },
  {
   "cell_type": "code",
   "execution_count": null,
   "metadata": {},
   "outputs": [],
   "source": []
  }
 ],
 "metadata": {
  "kernelspec": {
   "display_name": "Python 3",
   "language": "python",
   "name": "python3"
  },
  "language_info": {
   "codemirror_mode": {
    "name": "ipython",
    "version": 3
   },
   "file_extension": ".py",
   "mimetype": "text/x-python",
   "name": "python",
   "nbconvert_exporter": "python",
   "pygments_lexer": "ipython3",
   "version": "3.7.5"
  }
 },
 "nbformat": 4,
 "nbformat_minor": 2
}
